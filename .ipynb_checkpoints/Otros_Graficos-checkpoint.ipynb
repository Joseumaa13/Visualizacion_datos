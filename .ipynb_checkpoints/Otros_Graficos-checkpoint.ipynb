{
 "cells": [
  {
   "cell_type": "code",
   "execution_count": 1,
   "id": "86f35ed0",
   "metadata": {},
   "outputs": [],
   "source": [
    "# Carga de plotly express\n",
    "import plotly.express as px\n",
    "\n",
    "# Carga de plotly figure factory,\n",
    "# para tipos adicionales de gráficos\n",
    "import plotly.figure_factory as ff\n",
    "\n",
    "# Carga de pandas\n",
    "import pandas as pd\n"
   ]
  },
  {
   "cell_type": "code",
   "execution_count": 2,
   "id": "0f6319ef",
   "metadata": {},
   "outputs": [
    {
     "ename": "NameError",
     "evalue": "name 'covid_cantonal_positivos' is not defined",
     "output_type": "error",
     "traceback": [
      "\u001b[1;31m---------------------------------------------------------------------------\u001b[0m",
      "\u001b[1;31mNameError\u001b[0m                                 Traceback (most recent call last)",
      "Cell \u001b[1;32mIn [2], line 1\u001b[0m\n\u001b[1;32m----> 1\u001b[0m px\u001b[38;5;241m.\u001b[39mstrip(\u001b[43mcovid_cantonal_positivos\u001b[49m, \n\u001b[0;32m      2\u001b[0m          x\u001b[38;5;241m=\u001b[39m\u001b[38;5;124m\"\u001b[39m\u001b[38;5;124mpositivos\u001b[39m\u001b[38;5;124m\"\u001b[39m, \n\u001b[0;32m      3\u001b[0m          hover_name\u001b[38;5;241m=\u001b[39m\u001b[38;5;124m\"\u001b[39m\u001b[38;5;124mcanton\u001b[39m\u001b[38;5;124m\"\u001b[39m,\n\u001b[0;32m      4\u001b[0m          title\u001b[38;5;241m=\u001b[39m\u001b[38;5;124m\"\u001b[39m\u001b[38;5;124mDistribución de la cantidad de casos positivos de COVID en cantones de Costa Rica al 2022-05-30\u001b[39m\u001b[38;5;124m\"\u001b[39m,\n\u001b[0;32m      5\u001b[0m          labels\u001b[38;5;241m=\u001b[39m{\u001b[38;5;124m\"\u001b[39m\u001b[38;5;124mpositivos\u001b[39m\u001b[38;5;124m\"\u001b[39m: \u001b[38;5;124m\"\u001b[39m\u001b[38;5;124mCasos\u001b[39m\u001b[38;5;124m\"\u001b[39m})\n",
      "\u001b[1;31mNameError\u001b[0m: name 'covid_cantonal_positivos' is not defined"
     ]
    }
   ],
   "source": [
    "px.strip(covid_cantonal_positivos, \n",
    "         x=\"positivos\", \n",
    "         hover_name=\"canton\",\n",
    "         title=\"Distribución de la cantidad de casos positivos de COVID en cantones de Costa Rica al 2022-05-30\",\n",
    "         labels={\"positivos\": \"Casos\"})"
   ]
  },
  {
   "cell_type": "code",
   "execution_count": null,
   "id": "8cdc0098",
   "metadata": {},
   "outputs": [],
   "source": []
  }
 ],
 "metadata": {
  "kernelspec": {
   "display_name": "Python 3 (ipykernel)",
   "language": "python",
   "name": "python3"
  },
  "language_info": {
   "codemirror_mode": {
    "name": "ipython",
    "version": 3
   },
   "file_extension": ".py",
   "mimetype": "text/x-python",
   "name": "python",
   "nbconvert_exporter": "python",
   "pygments_lexer": "ipython3",
   "version": "3.10.6"
  }
 },
 "nbformat": 4,
 "nbformat_minor": 5
}
